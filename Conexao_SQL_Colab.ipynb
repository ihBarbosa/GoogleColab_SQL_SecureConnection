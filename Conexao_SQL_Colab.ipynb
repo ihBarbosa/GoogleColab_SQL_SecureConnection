{
 "cells": [
  {
   "cell_type": "markdown",
   "id": "1ad76c70",
   "metadata": {},
   "source": [
    "\n",
    "# 🔗 Conectando Google Colab ao Banco de Dados SQL (PostgreSQL)\n",
    "Este notebook mostra como conectar o Google Colab ao seu banco de dados SQL (PostgreSQL) de forma segura, utilizando um arquivo `.env` armazenado no Google Drive para proteger as credenciais.\n",
    "\n",
    "✅ Benefícios:\n",
    "- Rodar análises em Python direto da nuvem.\n",
    "- Compartilhar notebooks com seu time sem expor senhas.\n",
    "- Fazer queries SQL, gerar dashboards e aplicar modelos.\n"
   ]
  },
  {
   "cell_type": "markdown",
   "id": "8072be0c",
   "metadata": {},
   "source": [
    "## 🚀 Montando o Google Drive"
   ]
  },
  {
   "cell_type": "code",
   "execution_count": null,
   "id": "4f992171",
   "metadata": {},
   "outputs": [],
   "source": [
    "\n",
    "from google.colab import drive\n",
    "drive.mount('/content/drive')\n"
   ]
  },
  {
   "cell_type": "markdown",
   "id": "3920a578",
   "metadata": {},
   "source": [
    "## 📦 Importando bibliotecas"
   ]
  },
  {
   "cell_type": "code",
   "execution_count": null,
   "id": "5741ea92",
   "metadata": {},
   "outputs": [],
   "source": [
    "# Instalando as bibliotecas\n",
    "!pip install python-dotenv                      # Para ler as credenciais do banco de dados (arquivo .env)\n",
    "!pip install sqlalchemy psycopg2-binary         # Para conseguir comunicar com o banco de dados via Colab\n",
    "\n",
    "from google.colab import files\n",
    "from io import UnsupportedOperation\n",
    "import os\n",
    "from dotenv import load_dotenv\n"
   ]
  },
  {
   "cell_type": "markdown",
   "id": "33be6106",
   "metadata": {},
   "source": [
    "## 🔐 Carregando variáveis de ambiente (.env)"
   ]
  },
  {
   "cell_type": "code",
   "execution_count": null,
   "id": "9bd0e010",
   "metadata": {},
   "outputs": [],
   "source": [
    "\n",
    "# Defina o caminho onde está seu arquivo .env no Google Drive\n",
    "env_path = '/content/drive/MyDrive/caminho/para/seu/env'\n",
    "\n",
    "# Verifica se o arquivo existe\n",
    "print(\"Arquivo .env encontrado:\", os.path.exists(env_path))\n",
    "\n",
    "# Carrega as variáveis de ambiente\n",
    "load_dotenv(dotenv_path=env_path)\n"
   ]
  },
  {
   "cell_type": "code",
   "execution_count": null,
   "id": "f8efa07c",
   "metadata": {},
   "outputs": [],
   "source": [
    "\n",
    "# Pega as credenciais do .env\n",
    "usuario = os.getenv('DB_USER')\n",
    "senha = os.getenv('DB_PASS')\n",
    "host = os.getenv('DB_HOST')\n",
    "porta = os.getenv('DB_PORT')\n",
    "database = os.getenv('DB_NAME')\n"
   ]
  },
  {
   "cell_type": "markdown",
   "id": "b0bc0b5b",
   "metadata": {},
   "source": [
    "## 🔗 Criando conexão com o banco de dados"
   ]
  },
  {
   "cell_type": "code",
   "execution_count": null,
   "id": "d5dd607d",
   "metadata": {},
   "outputs": [],
   "source": [
    "\n",
    "from sqlalchemy import create_engine\n",
    "import pandas as pd\n",
    "\n",
    "# Cria a URL de conexão\n",
    "url_conexao = f'postgresql+psycopg2://{usuario}:{senha}@{host}:{porta}/{database}'\n",
    "\n",
    "# Cria o engine de conexão\n",
    "engine = create_engine(url_conexao)\n"
   ]
  },
  {
   "cell_type": "markdown",
   "id": "cb7dcb97",
   "metadata": {},
   "source": [
    "## 📝 Executando Query SQL"
   ]
  },
  {
   "cell_type": "code",
   "execution_count": null,
   "id": "b2862501",
   "metadata": {},
   "outputs": [],
   "source": [
    "\n",
    "# Escreva sua query\n",
    "query = \"SELECT * FROM *Tabela*\"\n",
    "\n",
    "# Executa e traz os dados em formato de DataFrame\n",
    "df = pd.read_sql(query, engine)\n",
    "\n",
    "# Visualiza os dados\n",
    "df.head()\n"
   ]
  },
  {
   "cell_type": "markdown",
   "id": "4c5be0dc",
   "metadata": {},
   "source": [
    "\n",
    "## ✅ Conclusão\n",
    "- Agora você consegue acessar seu banco de dados SQL direto do Google Colab.\n",
    "- As credenciais ficam seguras no `.env` armazenado no Google Drive.\n",
    "- Perfeito para análises, automações e até modelos preditivos de forma colaborativa e segura.\n"
   ]
  }
 ],
 "metadata": {
  "colab": {},
  "kernelspec": {
   "display_name": "Python 3",
   "language": "python",
   "name": "python3"
  },
  "language_info": {
   "codemirror_mode": {
    "name": "ipython",
    "version": 3
   },
   "file_extension": ".py",
   "mimetype": "text/x-python",
   "name": "python",
   "nbconvert_exporter": "python",
   "pygments_lexer": "ipython3",
   "version": "3.13.3"
  }
 },
 "nbformat": 4,
 "nbformat_minor": 5
}
